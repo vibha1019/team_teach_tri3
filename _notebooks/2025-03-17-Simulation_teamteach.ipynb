{
 "cells": [
  {
   "cell_type": "raw",
   "metadata": {
    "vscode": {
     "languageId": "raw"
    }
   },
   "source": [
    "---\n",
    "layout: post\n",
    "title: Simulation/Games and Random Algorithms\n",
    "description: 3.16, 3.17: Simulations and Algorithmic Efficiency\n",
    "permalink: /3.16\n",
    "toc: false\n",
    "comments: true\n",
    "author: Anyi W, Vibha M, Shryia P\n",
    "---"
   ]
  }
 ],
 "metadata": {
  "language_info": {
   "name": "python"
  }
 },
 "nbformat": 4,
 "nbformat_minor": 2
}
