{
 "cells": [
  {
   "cell_type": "raw",
   "metadata": {
    "vscode": {
     "languageId": "raw"
    }
   },
   "source": [
    "---\n",
    "layout: post\n",
    "title: Simulation/Games and Random Algorithms\n",
    "description: Simulation and Algorithms\n",
    "permalink: /simulationteamteach\n",
    "toc: false\n",
    "comments: true\n",
    "author: Anyi W, Vibha M, Shriya P\n",
    "---"
   ]
  },
  {
   "cell_type": "markdown",
   "metadata": {},
   "source": [
    "## **1. Introduction to Simulation & Random Algorithms**\n",
    "### **What Are Simulations?**\n",
    "According to College Board, **simulations** are:  \n",
    "- **Programs that model real-world events, systems, or processes** to analyze behavior, make predictions, or test scenarios.  \n",
    "- **Simplifications using abstraction** to focus on key elements while omitting unnecessary complexity.  \n",
    "- **Tools that often incorporate randomness or data-driven models** to explore multiple possible outcomes.  \n",
    "- **Efficient ways to study scenarios without real-world consequences**, reducing cost and risk.  \n",
    "\n",
    "### **Why Do Games & AI Use Randomness?**\n",
    "Random algorithms create unpredictability, making games **challenging and immersive**:\n",
    "- **Enemy AI unpredictability** (Pac-Man, Call of Duty)\n",
    "- **Loot drops & rewards** (FIFA packs, Gacha games)\n",
    "- **Procedural generation** (Minecraft, No Man’s Sky)\n"
   ]
  },
  {
   "cell_type": "markdown",
   "metadata": {},
   "source": [
    "# **Random Algorithms**  \n",
    "A **random algorithm** is an algorithm that includes **random choices** to influence its output. These algorithms are useful for **simulations, games, and decision-making** when multiple outcomes are possible.  \n",
    "\n",
    "---\n",
    "\n",
    "## **Example 1: Generating a Random Number**  \n",
    "This algorithm generates a random number between 1 and 10.  \n",
    "\n"
   ]
  },
  {
   "cell_type": "code",
   "execution_count": 1,
   "metadata": {},
   "outputs": [
    {
     "name": "stdout",
     "output_type": "stream",
     "text": [
      "Random number: 5\n"
     ]
    }
   ],
   "source": [
    "import random\n",
    "\n",
    "def generate_random_number():\n",
    "    \"\"\"Generates a random number between 1 and 10.\"\"\"\n",
    "    return random.randint(1, 10)\n",
    "\n",
    "# Generate and print a random number\n",
    "print(\"Random number:\", generate_random_number())\n"
   ]
  },
  {
   "cell_type": "markdown",
   "metadata": {},
   "source": [
    "### **Key Concepts:**  \n",
    "- Uses `random.randint(a, b)` to generate a **random integer** between `a` and `b`.  \n",
    "- Demonstrates the **core idea of randomness** in computing.  \n",
    "- Forms the basis for **games, simulations, and decision-making algorithms**.  \n",
    "\n",
    "---\n"
   ]
  },
  {
   "cell_type": "markdown",
   "metadata": {},
   "source": [
    "## Popcorn Hack #1 \n",
    "\n",
    "### Dice Roll Simulation (Basic)\n",
    "\n",
    "**Objective:** Write a function that simulates a 6-sided dice roll using the `random` module.\n"
   ]
  },
  {
   "cell_type": "code",
   "execution_count": 5,
   "metadata": {},
   "outputs": [],
   "source": [
    "import random\n",
    "\n",
    "def roll_dice():\n",
    "    # Write your code here to simulate a 6-sided dice roll\n",
    "    pass\n",
    "\n",
    "# print(\"Dice roll:\", roll_dice())\n"
   ]
  },
  {
   "cell_type": "markdown",
   "metadata": {},
   "source": [
    "## **Example 2: Simulating a Biased Coin Flip**  \n",
    "\n",
    "![Coin Flip]( {{ site.baseurl }}/images/teamteach-pictures/coin_flip.jpeg )\n",
    "This algorithm simulates a coin that lands on **heads 70% of the time** and **tails 30% of the time** instead of being fair (50-50).  \n"
   ]
  },
  {
   "cell_type": "code",
   "execution_count": 2,
   "metadata": {},
   "outputs": [
    {
     "name": "stdout",
     "output_type": "stream",
     "text": [
      "Heads\n",
      "Heads\n",
      "Heads\n",
      "Tails\n",
      "Tails\n",
      "Heads\n",
      "Heads\n",
      "Heads\n",
      "Heads\n",
      "Heads\n"
     ]
    }
   ],
   "source": [
    "import random\n",
    "\n",
    "def biased_coin_flip():\n",
    "    \"\"\"Simulates a biased coin flip where heads occurs 70% of the time.\"\"\"\n",
    "    if random.random() < 0.7:  # 70% chance\n",
    "        return \"Heads\"\n",
    "    else:  # 30% chance\n",
    "        return \"Tails\"\n",
    "\n",
    "# Simulate 10 coin flips\n",
    "for _ in range(10):\n",
    "    print(biased_coin_flip())\n"
   ]
  },
  {
   "cell_type": "markdown",
   "metadata": {},
   "source": [
    "## **How This Connects to Simulations and Games**\n",
    "\n",
    "![Coin Flip]( {{ site.baseurl }}/images/teamteach-pictures/flowchart.png)\n",
    "### **1. Simulating Real-World Probability**  \n",
    "- Many real-world events have **unequal probabilities**, just like how a biased coin isn't 50-50.  \n",
    "- **Example:** Weather prediction – there's not always a 50% chance of rain.\n",
    "\n",
    "### **2. Game Mechanics & AI Behavior**  \n",
    "- Many games use **randomness** to make experiences dynamic.  \n",
    "- **Examples:**  \n",
    "  - **Critical hits in video games**: A hit might have a **20% chance** of being extra powerful, similar to our coin flip being more likely to land on heads.  \n",
    "  - **Loot drops**: Some rewards might have a **higher chance** of appearing than others.\n",
    "\n",
    "### **3. Decision-Making in AI**  \n",
    "- AI in games and simulations often makes **probabilistic decisions** based on **weighted randomness**.  \n",
    "- **Example:** In a game, an enemy might **attack 70% of the time** and **defend 30% of the time**, just like our biased coin flip.\n",
    "\n",
    "---"
   ]
  },
  {
   "cell_type": "markdown",
   "metadata": {},
   "source": [
    "# **Hacks**\n",
    "\n",
    "## **Part 1: Random Algorithm Design**\n",
    "\n",
    "### **Dice Roll Simulation:**\n",
    "- Write a Python function that simulates a **6-sided dice roll** (random number between 1 and 6).\n",
    "- **Challenge:** Modify the function to simulate a **weighted dice roll**, where the number **6** has a **50% chance** of being rolled, and all other numbers have equal chances.\n",
    "\n",
    "**Example output:**\n",
    "```yaml\n",
    "Dice roll: 6\n"
   ]
  },
  {
   "cell_type": "markdown",
   "metadata": {},
   "source": [
    "## **Part 2: Reflection Questions**\n",
    "\n",
    "### **Randomness in Real Life:**\n",
    "- Explain how **randomness** is used in **real-life simulations** or **games**. Provide at least two examples. For each, describe how randomness influences the outcome.\n",
    "\n",
    "### **AI Decision-Making:**\n",
    "- How do you think **AI** uses random algorithms to make decisions in games? Explain with an example, such as an AI character deciding between attacking or defending.\n",
    "\n",
    "### **Simulation Design:**\n",
    "- Imagine you are designing a game. Describe one **random event** that could happen in your game and how you would use randomness to make the game more dynamic and exciting (e.g., random loot drops, random enemy behavior, etc.).\n"
   ]
  }
 ],
 "metadata": {
  "kernelspec": {
   "display_name": "venv",
   "language": "python",
   "name": "python3"
  },
  "language_info": {
   "codemirror_mode": {
    "name": "ipython",
    "version": 3
   },
   "file_extension": ".py",
   "mimetype": "text/x-python",
   "name": "python",
   "nbconvert_exporter": "python",
   "pygments_lexer": "ipython3",
   "version": "3.13.1"
  }
 },
 "nbformat": 4,
 "nbformat_minor": 2
}
