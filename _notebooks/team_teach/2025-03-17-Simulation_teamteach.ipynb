{
 "cells": [
  {
   "cell_type": "raw",
   "metadata": {
    "vscode": {
     "languageId": "raw"
    }
   },
   "source": [
    "---\n",
    "layout: post\n",
    "title: Simulation/Games and Random Algorithms\n",
    "description: Simulation and Algorithms\n",
    "permalink: /simulationteamteach\n",
    "toc: false\n",
    "comments: true\n",
    "author: Anyi W, Vibha M, Shriya P\n",
    "---"
   ]
  },
  {
   "cell_type": "markdown",
   "metadata": {},
   "source": [
    "## **1. Introduction to Simulation & Random Algorithms**\n",
    "### **What Are Simulations?**\n",
    "According to College Board, **simulations** are:  \n",
    "- **Programs that model real-world events, systems, or processes** to analyze behavior, make predictions, or test scenarios.  \n",
    "- **Simplifications using abstraction** to focus on key elements while omitting unnecessary complexity.  \n",
    "- **Tools that often incorporate randomness or data-driven models** to explore multiple possible outcomes.  \n",
    "- **Efficient ways to study scenarios without real-world consequences**, reducing cost and risk.  \n",
    "\n",
    "### **Why Do Games & AI Use Randomness?**\n",
    "Random algorithms create unpredictability, making games **challenging and immersive**:\n",
    "- **Enemy AI unpredictability** (Pac-Man, Call of Duty)\n",
    "- **Loot drops & rewards** (FIFA packs, Gacha games)\n",
    "- **Procedural generation** (Minecraft, No Man’s Sky)\n"
   ]
  },
  {
   "cell_type": "markdown",
   "metadata": {},
   "source": [
    "# **Random Algorithms**  \n",
    "A **random algorithm** is an algorithm that includes **random choices** to influence its output. These algorithms are useful for **simulations, games, and decision-making** when multiple outcomes are possible.  \n",
    "\n",
    "---\n",
    "\n",
    "## **Example 1: Generating a Random Number**  \n",
    "This algorithm generates a random number between 1 and 10.  \n",
    "\n"
   ]
  },
  {
   "cell_type": "code",
   "execution_count": 1,
   "metadata": {},
   "outputs": [
    {
     "name": "stdout",
     "output_type": "stream",
     "text": [
      "Random number: 5\n"
     ]
    }
   ],
   "source": [
    "import random\n",
    "\n",
    "def generate_random_number():\n",
    "    \"\"\"Generates a random number between 1 and 10.\"\"\"\n",
    "    return random.randint(1, 10)\n",
    "\n",
    "# Generate and print a random number\n",
    "print(\"Random number:\", generate_random_number())\n"
   ]
  },
  {
   "cell_type": "markdown",
   "metadata": {},
   "source": [
    "## **Example 2: Generating a Random Number using dice**  \n",
    "This algorithm generates a biased dice role "
   ]
  },
  {
   "cell_type": "code",
   "execution_count": null,
   "metadata": {},
   "outputs": [],
   "source": [
    "import random\n",
    "\n",
    "def biased_dice_roll():\n",
    "    \"\"\"Simulates a biased 6-sided dice roll where 6 appears 50% of the time.\"\"\"\n",
    "    numbers = [1, 2, 3, 4, 5, 6]\n",
    "    probabilities = [0.1, 0.1, 0.1, 0.1, 0.1, 0.5]  # 6 appears 50% of the time\n",
    "    \n",
    "    return random.choices(numbers, probabilities)[0]\n",
    "\n",
    "# Simulate 10 biased dice rolls\n",
    "for _ in range(10):\n",
    "    print(\"Dice roll:\", biased_dice_roll())\n"
   ]
  },
  {
   "cell_type": "markdown",
   "metadata": {},
   "source": [
    "### **Key Concepts:**  \n",
    "- Uses `random.randint(a, b)` to generate a **random integer** between `a` and `b`.  \n",
    "- Demonstrates the **core idea of randomness** in computing.  \n",
    "- Forms the basis for **games, simulations, and decision-making algorithms**.  \n",
    "\n",
    "---\n"
   ]
  },
  {
   "cell_type": "markdown",
   "metadata": {},
   "source": [
    "## Popcorn Hack #1 \n",
    "\n",
    "### Dice Roll Simulation (Basic)\n",
    "\n",
    "**Objective:** Write a function that simulates a 6-sided dice roll using the `random` module.\n"
   ]
  },
  {
   "cell_type": "code",
   "execution_count": null,
   "metadata": {},
   "outputs": [],
   "source": [
    "#Starter code\n",
    "import random\n",
    "\n",
    "def roll_dice():\n",
    "    # Write your code here to simulate a 6-sided dice roll\n",
    "    pass\n",
    "\n",
    "# print(\"Dice roll:\", roll_dice())\n"
   ]
  },
  {
   "cell_type": "markdown",
   "metadata": {},
   "source": [
    "## **Example 2: Simulating a Biased Coin Flip**  \n",
    "\n",
    "![Coin Flip]( {{ site.baseurl }}/images/teamteach-pictures/coin_flip.jpeg )\n",
    "This algorithm simulates a coin that lands on **heads 70% of the time** and **tails 30% of the time** instead of being fair (50-50).  \n"
   ]
  },
  {
   "cell_type": "code",
   "execution_count": 2,
   "metadata": {},
   "outputs": [
    {
     "name": "stdout",
     "output_type": "stream",
     "text": [
      "Heads\n",
      "Heads\n",
      "Heads\n",
      "Tails\n",
      "Tails\n",
      "Heads\n",
      "Heads\n",
      "Heads\n",
      "Heads\n",
      "Heads\n"
     ]
    }
   ],
   "source": [
    "import random\n",
    "\n",
    "def biased_coin_flip():\n",
    "    \"\"\"Simulates a biased coin flip where heads occurs 70% of the time.\"\"\"\n",
    "    if random.random() < 0.7:  # 70% chance\n",
    "        return \"Heads\"\n",
    "    else:  # 30% chance\n",
    "        return \"Tails\"\n",
    "\n",
    "# Simulate 10 coin flips\n",
    "for _ in range(10):\n",
    "    print(biased_coin_flip())\n"
   ]
  },
  {
   "cell_type": "markdown",
   "metadata": {},
   "source": [
    "## Popcorn Hack #2\n",
    "\n",
    "### Biased color generator\n",
    "\n",
    "- Modify the function biased_color() so that:\n",
    "- Red appears 50% of the time, blue appears 30% of the time, all other colors share the remaining 20%\n",
    "- Then print 10 random biased colors\n"
   ]
  },
  {
   "cell_type": "code",
   "execution_count": null,
   "metadata": {},
   "outputs": [],
   "source": [
    "import random\n",
    "\n",
    "def biased_color():\n",
    "#Make a biased color generator, with a bias towards Red and Blue.\n",
    "\n",
    "# Print 10 biased random colors\n",
    "    for _ in range(10):\n",
    "        pass"
   ]
  },
  {
   "cell_type": "markdown",
   "metadata": {},
   "source": [
    "## **How This Connects to Simulations and Games**\n",
    "\n",
    "![Coin Flip]( {{ site.baseurl }}/images/teamteach-pictures/flowchart.png)\n",
    "### **1. Simulating Real-World Probability**  \n",
    "- Many real-world events have **unequal probabilities**, just like how a biased coin isn't 50-50.  \n",
    "- **Example:** Weather prediction – there's not always a 50% chance of rain.\n",
    "\n",
    "### **2. Game Mechanics & AI Behavior**  \n",
    "- Many games use **randomness** to make experiences dynamic.  \n",
    "- **Examples:**  \n",
    "  - **Critical hits in video games**: A hit might have a **20% chance** of being extra powerful, similar to our coin flip being more likely to land on heads.  \n",
    "  - **Loot drops**: Some rewards might have a **higher chance** of appearing than others.\n",
    "\n",
    "### **3. Decision-Making in AI**  \n",
    "- AI in games and simulations often makes **probabilistic decisions** based on **weighted randomness**.  \n",
    "- **Example:** In a game, an enemy might **attack 70% of the time** and **defend 30% of the time**, just like our biased coin flip.\n",
    "\n",
    "---"
   ]
  },
  {
   "cell_type": "markdown",
   "metadata": {},
   "source": [
    "## How to Tackle College Board Simulations MCQs\n",
    "\n",
    "In AP CSP, simulation MCQs often involve modeling real-world systems, like robot movement or game behaviors. The goal is to complete algorithms that simulate processes or decisions, without needing to write the entire code—just filling in missing lines.\n",
    "\n",
    "#### Key Concepts\n",
    "\n",
    "1. **Identify Variables & Actions**  \n",
    "   - Understand key components: position, target, obstacles, etc.  \n",
    "   - Recognize the actions: move, check for obstacles, etc.\n",
    "\n",
    "2. **Control Structures**  \n",
    "   - **Loops:** Often used to repeat actions until a goal is met.  \n",
    "   - **Conditionals:** Used to decide what happens in different scenarios (e.g., move if path is clear).\n",
    "\n",
    "3. **Goal of the Simulation**  \n",
    "   - Focus on what the algorithm is trying to achieve (e.g., move a robot to a target).\n",
    "\n",
    "#### Approach for MCQs\n",
    "\n",
    "1. **Break Down the Problem**  \n",
    "   - Read the scenario carefully (e.g., robot moving on a grid).  \n",
    "   - Identify variables (position, target) and actions (move, check for obstacles).\n",
    "\n",
    "2. **Look for Loops and Conditions**  \n",
    "   - Loops control repetition (e.g., robot keeps moving until it reaches the target).  \n",
    "   - Conditions help the robot decide what to do (e.g., check if the path is clear).\n",
    "\n",
    "3. **Fill in Missing Lines**  \n",
    "   - In MCQs, you'll often need to fill in missing code or choose the correct line to complete the algorithm.\n",
    "---\n",
    "\n",
    "#### Example College Board Question\n",
    "\n",
    "**Question:**  \n",
    "\n",
    "##### 2018 Q18: \n",
    "A population researcher is interested in predicting the number of births that will occur in a particular community. She created a computer model that uses data from the past ten years, including number of residents and the number of babies born. The model predicted that there would be 200 births last year, but the actual number of births last year was only 120.  \n",
    "Which of the following strategies is LEAST likely to provide a more accurate prediction?\n",
    "\n",
    "- **A**: Gathering data for additional years to try to identify patterns in birth rates\n",
    "- **B**: Refining the model used in the computer simulation to more closely reflect the data from the past ten years\n",
    "- **C**: Removing as many details from the model as possible so that calculations can be performed quickly\n",
    "- **D**: Taking into consideration more information about the community, such as the ages of residents\n",
    " \n",
    "Answer: C     Removing details from the model may help it run quickly, but is unlikely to provide more accurate results.\n",
    "\n",
    "##### 2018 Q43:\n",
    "An online retailer uses an algorithm to sort a list of n items by price. The table below shows the approximate number of steps the algorithm takes to sort lists of different sizes.\n",
    "\n",
    "| Number of Items | Number of Steps |\n",
    "|-----------------|-----------------|\n",
    "| 10              | 100             |\n",
    "| 20              | 400             |\n",
    "| 30              | 900             |\n",
    "| 40              | 1,600           |\n",
    "| 50              | 2,500           |\n",
    "| 60              | 3,600           |\n",
    "\n",
    "Based on the values in the table, which of the following best characterizes the algorithm for very large values of n?\n",
    "\n",
    "#### Responses:\n",
    "- **A**: The algorithm runs in reasonable time.\n",
    "- **B**: The algorithm runs, but not in reasonable time.\n",
    "- **C**: The algorithm attempts to solve an undecidable problem.\n",
    "- **D**: The algorithm attempts to find an approximate solution whenever it fails to find an exact solution.\n",
    "\n",
    "Answer: A      The pattern in the table appears to indicate that there are n squared steps for a list containing n items. This number of steps is a polynomial and therefore the algorithm runs in reasonable time. \n",
    "![Example]( {{ site.baseurl }}/images/teamteach-pictures/practice_mc.png)\n",
    "\n",
    "**Approach:**  \n",
    "- Understand the robot's goal (to reach the gray square) and its movement constraints.\n",
    "- Focus on how the robot moves forward and handles barriers (using `CAN_MOVE`, `MOVE_FORWARD`, and `ROTATE_RIGHT`).\n",
    "- **Answer:** B is correct. The robot moves forward until it hits a barrier, then rotates right, effectively navigating towards the target.\n",
    "\n",
    "---\n",
    "\n",
    "### Tips for Students\n",
    "\n",
    "- **Break it Down:** Identify key actions (move forward, rotate) and understand the flow of the algorithm.\n",
    "- **Look for Loops & Conditions:** Most simulation MCQs involve loops for movement and conditions for decisions (e.g., moving until a barrier is encountered).\n",
    "- **Practice Different Scenarios:** The more you practice, the easier it becomes to understand what actions are needed to achieve the goal.\n",
    "\n",
    "These steps will help you confidently tackle simulation MCQs and fill in the missing code.\n",
    "\n",
    "---"
   ]
  },
  {
   "cell_type": "markdown",
   "metadata": {},
   "source": [
    "# **Hacks**\n",
    "\n",
    "## **Part 1: Random Algorithm Design**\n",
    "\n",
    "### **Dice Roll Simulation:**\n",
    "- Write a Python function that simulates a **6-sided dice roll** (random number between 1 and 6).\n",
    "- **Challenge:** Modify the function to simulate a **weighted dice roll**, where the number **6** has a **50% chance** of being rolled, and all other numbers have equal chances.\n",
    "\n",
    "**Example output:**\n",
    "```yaml\n",
    "Dice roll: 6\n"
   ]
  },
  {
   "cell_type": "markdown",
   "metadata": {},
   "source": [
    "## **Part 2: Take a Quiz**"
   ]
  },
  {
   "cell_type": "markdown",
   "metadata": {},
   "source": [
    "[click to take the quiz](https://quizizz.com/join?gc=56696440)"
   ]
  }
 ],
 "metadata": {
  "kernelspec": {
   "display_name": "venv",
   "language": "python",
   "name": "python3"
  },
  "language_info": {
   "codemirror_mode": {
    "name": "ipython",
    "version": 3
   },
   "file_extension": ".py",
   "mimetype": "text/x-python",
   "name": "python",
   "nbconvert_exporter": "python",
   "pygments_lexer": "ipython3",
   "version": "3.13.1"
  }
 },
 "nbformat": 4,
 "nbformat_minor": 2
}
