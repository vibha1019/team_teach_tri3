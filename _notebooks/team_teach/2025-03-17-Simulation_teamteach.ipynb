{
 "cells": [
  {
   "cell_type": "raw",
   "metadata": {
    "vscode": {
     "languageId": "raw"
    }
   },
   "source": [
    "---\n",
    "layout: post\n",
    "title: Simulation/Games and Random Algorithms\n",
    "description: Simulation and Algorithms\n",
    "permalink: /simulationteamteach\n",
    "toc: false\n",
    "comments: true\n",
    "author: Anyi W, Vibha M, Shriya P\n",
    "---"
   ]
  },
  {
   "cell_type": "markdown",
   "metadata": {},
   "source": [
    "# Introduction to Simulation & Random Algorithms\n",
    "### **What Are Simulations?**\n",
    "According to College Board, **simulations** are:  \n",
    "- **Programs that model real-world events, systems, or processes** to analyze behavior, make predictions, or test scenarios.  \n",
    "- **Simplifications using abstraction** to focus on key elements while omitting unnecessary complexity.  \n",
    "- **Tools that often incorporate randomness or data-driven models** to explore multiple possible outcomes.  \n",
    "- **Efficient ways to study scenarios without real-world consequences**, reducing cost and risk.  \n",
    "\n",
    "### **Why Do Games & AI Use Randomness?**\n",
    "Random algorithms create unpredictability, making games **challenging and immersive**:\n",
    "- **Enemy AI unpredictability** (Pac-Man, Call of Duty)<img src=\"https://blog.sciencemuseum.org.uk/wp-content/uploads/2017/10/Pacman.gif\" width=\"400\" alt=\"Pacman GIF\">\n",
    "- **Loot drops & rewards** (FIFA packs, Gacha games)<img src=\"https://encrypted-tbn0.gstatic.com/images?q=tbn:ANd9GcT8M7-dTipW9z71_zTgsB_7J24o-5F7BJ1ZoQ&s\" width=\"400\" alt=\"Arknights\">\n",
    "- **Procedural generation** (Minecraft, No Man’s Sky)<img src=\"https://assetsio.gnwcdn.com/minecraft-springdrop-pigs.jpg?width=1200&height=1200&fit=bounds&quality=70&format=jpg&auto=webp\" width=\"400\" alt=\"Minecraft\">\n",
    "- [Go to a Game](https://vibha1019.github.io/team_teach_tri3/life/)\n",
    "---"
   ]
  },
  {
   "cell_type": "markdown",
   "metadata": {},
   "source": [
    "# **Random Algorithms**  \n",
    "A **random algorithm** is an algorithm that includes **random choices** to influence its output. These algorithms are useful for **simulations, games, and decision-making** when multiple outcomes are possible.  \n",
    "\n",
    "---\n",
    "\n",
    "## **Example 1: Generating a Random Number**  \n",
    "This algorithm generates a random number between 1 and 10.  \n",
    "\n"
   ]
  },
  {
   "cell_type": "code",
   "execution_count": 1,
   "metadata": {},
   "outputs": [
    {
     "name": "stdout",
     "output_type": "stream",
     "text": [
      "Random number: 5\n"
     ]
    }
   ],
   "source": [
    "import random\n",
    "\n",
    "def generate_random_number():\n",
    "    \"\"\"Generates a random number between 1 and 10.\"\"\"\n",
    "    return random.randint(1, 10)\n",
    "\n",
    "# Generate and print a random number\n",
    "print(\"Random number:\", generate_random_number())\n"
   ]
  },
  {
   "cell_type": "markdown",
   "metadata": {},
   "source": [
    "---\n",
    "\n",
    "# Popcorn Hack #1  \n",
    "## Dice Roll Simulation (Basic)\n",
    "\n",
    "**Objective:**  \n",
    "Write a function that simulates a 6-sided dice roll using the `random` module.\n",
    "\n",
    "### Starter Code\n",
    "```python\n",
    "import random\n",
    "\n",
    "def roll_dice():\n",
    "    # Write your code here to simulate a 6-sided dice roll\n",
    "    pass\n",
    "\n",
    "# print(\"Dice roll:\", roll_dice())\n",
    "```"
   ]
  },
  {
   "cell_type": "markdown",
   "metadata": {},
   "source": [
    "---\n",
    "## **Example 2: Generating a Random Number using dice**  \n",
    "This algorithm generates a biased dice role "
   ]
  },
  {
   "cell_type": "code",
   "execution_count": null,
   "metadata": {},
   "outputs": [],
   "source": [
    "import random\n",
    "\n",
    "def biased_dice_roll():\n",
    "    \"\"\"Simulates a biased 6-sided dice roll where 6 appears 50% of the time.\"\"\"\n",
    "    numbers = [1, 2, 3, 4, 5, 6]\n",
    "    probabilities = [0.1, 0.1, 0.1, 0.1, 0.1, 0.5]  # 6 appears 50% of the time\n",
    "    \n",
    "    return random.choices(numbers, probabilities)[0]\n",
    "\n",
    "# Simulate 10 biased dice rolls\n",
    "for _ in range(10):\n",
    "    print(\"Dice roll:\", biased_dice_roll())\n"
   ]
  },
  {
   "cell_type": "markdown",
   "metadata": {},
   "source": [
    "---\n",
    "# Popcorn Hack #2  \n",
    "## Biased Color Generator\n",
    "\n",
    "**Objective:**  \n",
    "Modify the function `biased_color()` so that:  \n",
    "- Red appears **50%** of the time  \n",
    "- Blue appears **30%** of the time  \n",
    "- All other colors share the remaining **20%**\n",
    "\n",
    "Then print **10 random biased colors**.\n",
    "\n",
    "### Starter Code\n",
    "```python\n",
    "import random\n",
    "\n",
    "def biased_color():\n",
    "    # Make a biased color generator, with a bias towards Red and Blue.\n",
    "\n",
    "    # Print 10 biased random colors\n",
    "    for _ in range(10):\n",
    "        pass\n",
    "```"
   ]
  },
  {
   "cell_type": "markdown",
   "metadata": {},
   "source": [
    "### **Key Concepts:**  \n",
    "- Uses `random.randint(a, b)` to generate a **random integer** between `a` and `b`.  \n",
    "- Demonstrates the **core idea of randomness** in computing.  \n",
    "- Forms the basis for **games, simulations, and decision-making algorithms**.  \n",
    "\n",
    "---\n"
   ]
  },
  {
   "cell_type": "markdown",
   "metadata": {},
   "source": [
    "## Practice MC\n",
    "\n",
    "![Random Popcorn Hack]({{ site.baseurl }}/images/teamteach-pictures/random_popcorn_hack.png)\n",
    "\n",
    "![Random 2]({{ site.baseurl }}/images/teamteach-pictures/random_2.png)\n"
   ]
  },
  {
   "cell_type": "markdown",
   "metadata": {},
   "source": []
  },
  {
   "cell_type": "markdown",
   "metadata": {},
   "source": [
    "---\n",
    "## **How This Connects to Simulations and Games**\n",
    "\n",
    "### **1. Simulating Real-World Probability**  \n",
    "- Many real-world events have **unequal probabilities**, just like how a biased coin isn't 50-50.  \n",
    "- **Example:** Weather prediction – there's not always a 50% chance of rain.\n",
    "\n",
    "### **2. Decision-Making in AI**  \n",
    "- AI in games and simulations often makes **probabilistic decisions** based on **weighted randomness**.  \n",
    "- **Example:** In a game, an enemy might **attack 70% of the time** and **defend 30% of the time**, just like our biased coin flip.\n",
    "\n",
    "---"
   ]
  },
  {
   "cell_type": "markdown",
   "metadata": {},
   "source": [
    "## **How to Tackle College Board Simulations MCQs**\n",
    "\n",
    "In AP CSP, simulation MCQs often involve modeling real-world systems, like robot movement or game behaviors. The goal is to complete algorithms that simulate processes or decisions, without needing to write the entire code—just filling in missing lines.\n",
    "\n",
    "#### Approach for MCQs\n",
    "\n",
    "1. **Break Down the Problem**  \n",
    "   - Read the scenario carefully (e.g., robot moving on a grid).  \n",
    "   - Identify variables (position, target) and actions (move, check for obstacles).\n",
    "\n",
    "2. **Look for Loops and Conditions**  \n",
    "   - Loops control repetition (e.g., robot keeps moving until it reaches the target).  \n",
    "   - Conditions help the robot decide what to do (e.g., check if the path is clear).\n",
    "\n",
    "3. **Fill in Missing Lines**  \n",
    "   - In MCQs, you'll often need to fill in missing code or choose the correct line to complete the algorithm.\n",
    "---\n",
    "\n",
    "## 2018 Q18: \n",
    "A population researcher is interested in predicting the number of births that will occur in a particular community. She created a computer model that uses data from the past ten years, including number of residents and the number of babies born. The model predicted that there would be 200 births last year, but the actual number of births last year was only 120.  \n",
    "Which of the following strategies is LEAST likely to provide a more accurate prediction?\n",
    "\n",
    "- **A**: Gathering data for additional years to try to identify patterns in birth rates\n",
    "- **B**: Refining the model used in the computer simulation to more closely reflect the data from the past ten years\n",
    "- **C**: Removing as many details from the model as possible so that calculations can be performed quickly\n",
    "- **D**: Taking into consideration more information about the community, such as the ages of residents\n",
    " ---"
   ]
  },
  {
   "cell_type": "markdown",
   "metadata": {},
   "source": [
    "# **Homework Hack #1**  \n",
    "## Coin Flip Win Simulation\n",
    "\n",
    "**Objective:**  \n",
    "Simulate a game where two players flip a coin. First to reach 3 heads wins.\n",
    "\n",
    "**Task:**  \n",
    "1. Use `random.choice()` to simulate flipping a coin (`\"heads\"` or `\"tails\"`).  \n",
    "2. Each player flips once per round.  \n",
    "3. Track how many heads each player has.  \n",
    "4. Stop when one player reaches 3 heads.  \n",
    "5. Print the winner and how many rounds it took."
   ]
  },
  {
   "cell_type": "markdown",
   "metadata": {},
   "source": [
    "## **Part 2: Take a Quiz**\n",
    "\n",
    "- Submit screenshot of score on google form\n",
    "[click to take the quiz](https://quizizz.com/join?gc=56696440)"
   ]
  }
 ],
 "metadata": {
  "kernelspec": {
   "display_name": "venv",
   "language": "python",
   "name": "python3"
  },
  "language_info": {
   "codemirror_mode": {
    "name": "ipython",
    "version": 3
   },
   "file_extension": ".py",
   "mimetype": "text/x-python",
   "name": "python",
   "nbconvert_exporter": "python",
   "pygments_lexer": "ipython3",
   "version": "3.13.1"
  }
 },
 "nbformat": 4,
 "nbformat_minor": 2
}
