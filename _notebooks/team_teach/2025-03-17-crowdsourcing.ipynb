{
 "cells": [
  {
   "cell_type": "raw",
   "metadata": {
    "vscode": {
     "languageId": "raw"
    }
   },
   "source": [
    "---\n",
    "layout: post\n",
    "title: Crowdsourcing\n",
    "description: Obtain informations and idea from large group of people\n",
    "permalink: /crowdsourcing-lesson\n",
    "toc: false\n",
    "comments: true\n",
    "author: Collin G, Maryam A, Aditi B\n",
    "---"
   ]
  },
  {
   "cell_type": "markdown",
   "metadata": {},
   "source": [
    "# Introduction to crowdsourcing and related concepts:\n",
    "\n",
    "## **1. Crowdsourcing**\n",
    "Crowdsourcing is the practice of **gathering information, ideas, services, or content from a large group of people**, typically via the internet. Instead of relying on a small team of experts, crowdsourcing leverages **collective intelligence** to solve problems or complete tasks.  \n",
    "\n",
    "### **Examples of Crowdsourcing**\n",
    "- **Wikipedia:** Volunteers collaboratively create and edit content.  \n",
    "- **Waze:** Drivers share real-time traffic data to improve navigation.  \n",
    "- **GoFundMe:** People contribute small amounts of money to collectively fund larger projects.  \n",
    "\n",
    "---\n",
    "\n",
    "## **2. Human Computation**\n",
    "Human computation refers to systems that **combine human skills with computer processing power** to solve complex problems. These tasks are often difficult for computers alone but manageable for humans, such as image recognition, language translation, or data labeling.  \n",
    "\n",
    "### **Examples of Human Computation**\n",
    "- **reCAPTCHA:** Users help digitize text by verifying distorted words.  \n",
    "- **Foldit:** Players solve puzzles to help scientists understand protein folding.  \n",
    "- **Amazon Mechanical Turk (MTurk):** A platform where workers perform small tasks that AI struggles with, such as sentiment analysis or content moderation.  \n",
    "\n",
    "---\n",
    "\n",
    "## **3. Citizen Science and Public Datasets**\n",
    "Citizen science is a form of crowdsourcing where **volunteers participate in scientific research** by collecting, categorizing, or analyzing data. Public datasets often result from citizen science projects and are made available for researchers worldwide.  \n",
    "\n",
    "### **Examples of Citizen Science**\n",
    "- **Zooniverse:** A platform where volunteers classify images for scientific projects.  \n",
    "- **eBird:** Birdwatchers contribute sightings, creating valuable migration data.  \n",
    "- **Globe at Night:** Citizens measure light pollution by observing stars.  \n",
    "\n",
    "---\n",
    "\n",
    "## **4. Volunteer Computing and Distributed Computing**\n",
    "Volunteer and distributed computing involve **using the idle processing power of thousands of personal computers** to perform large-scale computations. This distributes the workload, making it possible to tackle complex problems that require massive computing power.  \n",
    "\n",
    "### **Examples of Volunteer and Distributed Computing**\n",
    "- **SETI@home:** Volunteers' computers analyze radio signals in the search for extraterrestrial life.  \n",
    "- **Folding@home:** Participants donate their computer power to simulate protein folding for disease research.  \n",
    "- **BOINC (Berkeley Open Infrastructure for Network Computing):** A platform for distributed computing projects across various fields.  \n",
    "\n",
    "---"
   ]
  },
  {
   "cell_type": "markdown",
   "metadata": {},
   "source": []
  }
 ],
 "metadata": {
  "language_info": {
   "name": "python"
  }
 },
 "nbformat": 4,
 "nbformat_minor": 2
}
