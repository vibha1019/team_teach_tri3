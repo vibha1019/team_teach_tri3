{
 "cells": [
  {
   "cell_type": "raw",
   "metadata": {
    "vscode": {
     "languageId": "raw"
    }
   },
   "source": [
    "---\n",
    "layout: post\n",
    "title: Crowdsourcing\n",
    "description: Obtain informations and idea from large group of people\n",
    "permalink: /crowdsourcing-lesson\n",
    "toc: false\n",
    "comments: true\n",
    "author: Collin G, Maryam A, Aditi B\n",
    "---"
   ]
  },
  {
   "cell_type": "markdown",
   "metadata": {},
   "source": [
    "![Hackhack Image](https://github.com/vibha1019/team_teach_tri3/blob/main/images/teamteach-pictures/Hackhack.png?raw=true)\n",
    "\n",
    "# Introduction to crowdsourcing and related concepts:\n",
    "\n",
    "## **1. Crowdsourcing**\n",
    "Crowdsourcing is the practice of **gathering information, ideas, services, or content from a large group of people**, typically via the internet.\n",
    "### **Examples of Crowdsourcing**\n",
    "- **Wikipedia:** Volunteers collaboratively create and edit content.  \n",
    "- **Waze:** Drivers share real-time traffic data to improve navigation.  \n",
    "- **GoFundMe:** People contribute small amounts of money to collectively fund larger projects.  \n",
    "![Crowdsourcing](https://github.com/vibha1019/team_teach_tri3/blob/main/images/teamteach-pictures/crowdsourcing.png?raw=true)"
   ]
  },
  {
   "cell_type": "markdown",
   "metadata": {},
   "source": [
    "## **2. Human Computation**\n",
    "Human computation refers to systems that **combine human skills with computer processing power** to solve complex problems. \n",
    "\n",
    "### **Examples of Human Computation**\n",
    "- **reCAPTCHA:** Users help digitize text by verifying distorted words.  \n",
    "- **Foldit:** Players solve puzzles to help scientists understand protein folding.  \n",
    "- **Amazon Mechanical Turk (MTurk):** A platform where workers perform small tasks that AI struggles with, such as sentiment analysis or content moderation.  \n",
    "![Human Based Computation](https://github.com/vibha1019/team_teach_tri3/blob/main/images/teamteach-pictures/Human_based_computation.png?raw=true)\n"
   ]
  },
  {
   "cell_type": "markdown",
   "metadata": {},
   "source": [
    "#### reCaptcha\n",
    "\n",
    "Have you ever come across an image like this?\n",
    "\n",
    "![distored text captcha](https://blogger.googleusercontent.com/img/b/R29vZ2xl/AVvXsEi9r-r2VAawD3Xu5qGgzjIA5bNYVTYU1txLmbHV6AIb8IeWBtKl4nplQbiE2np3iLYfK7XCdCtxNdfwttGToO3O3873gV28DyVdNz1rkN859NfLL-XOiDUML25AE-MpmR9mAkOSt68StoDp/s1600/reCAPTCHA_OldAPI.png)\n",
    "\n",
    "If so, you've unknowingly contributed to one of the largest human computation projects in the world. Captcha technology helps to transcribe content for no effort at all. \n",
    "\n",
    "Every image is shown to multiple users, and once enough people have classified the text the same way, the computer stores the information as correct. In its first 4 years, reCaptcha transcribed the entire NY Times archive of over 13M articles.\n",
    "\n",
    "ML and AI have been trained on the datasets created from human computation projects like reCaptcha, helping AI to perfect transcription technology. Nowadays, reCaptcha is used to help identify objects in images to help train computers to do the same.\n",
    "\n",
    "[Click here to watch a video clip from one of the creators of the captcha (30 seconds)](https://youtube.com/clip/Ugkx9mW-ALKklYXWyyGfAUs3ws0EWKULz6x4?si=Eg4i4g166caQBOv2)"
   ]
  },
  {
   "cell_type": "markdown",
   "metadata": {},
   "source": [
    "### **Popcorn Hack**\n",
    "Find a website that uses reCaptcha"
   ]
  },
  {
   "cell_type": "markdown",
   "metadata": {},
   "source": [
    "## **3. Citizen Science and Public Datasets**\n",
    "Citizen science is a form of crowdsourcing where **volunteers participate in scientific research** by collecting, categorizing, or analyzing data. \n",
    "\n",
    "### **Examples of Citizen Science**\n",
    "- [**Zooniverse:**](https://www.zooniverse.org/) A platform where volunteers classify images for scientific projects.  \n",
    "- [**eBird:**](https://ebird.org/home) Birdwatchers contribute sightings, creating valuable migration data. Researchers use this data to graph trends over time.\n",
    "- [**Globe at Night:**](https://globeatnight.org/) Citizens measure light pollution by observing stars.  \n",
    "\n",
    "### **Public datasets**\n",
    "There are multiple databases, both digital and physical, of large pools of data contributed by citizen scientists. With the Internet, more people can contribute to the data, and researchers or hobbyists can use that data in their own calculations.\n",
    "\n",
    "- [**Kaggle datasets**](https://www.kaggle.com/datasets)\n",
    "- **Google Public Datasets** (instructions to access datasets [here](https://cloud.google.com/bigquery/public-data#public-ui))\n",
    "- [**Data.gov**](https://data.gov/)\n",
    "\n",
    "![Citizen Science](https://github.com/vibha1019/team_teach_tri3/blob/main/images/teamteach-pictures/citizenscience.png?raw=true)"
   ]
  },
  {
   "cell_type": "markdown",
   "metadata": {},
   "source": [
    "### Bias: The Dangers of Public Data\n",
    "\n",
    "While public datasets can be useful for graphing trends, new technologies and innovations, research, and more, it always runs the risk of being biased and discriminatory.\n",
    "\n",
    "Data comes from people, and people carry their own inherent biases. When using data to train AI or in ML, it can produce biased results:\n",
    "- A facial recognition software was found more likely to falsely state that Asian faces had their eyes closed than those of other races\n",
    "- Facial recognition technology used by law inforcement gave false positive matches for Black and Asian faces at a higher rate than white faces because the tech was trained mainly on white faces\n",
    "- When Amazon used software to sort through resumes, those mentioning the word \"woman\" (woman's sports clubs, woman's colleges) were more likely to get discarded because the majority of past Amazon employees were male\n",
    "\n",
    "When an AI trained on a specific dataset yields biased results, it's important to stop and consider where those results may have come from."
   ]
  },
  {
   "cell_type": "markdown",
   "metadata": {},
   "source": [
    "## **4. Volunteer Computing and Distributed Computing**\n",
    "Volunteer and distributed computing involve **using the idle processing power of thousands of personal computers** to perform large-scale computations. \n",
    "\n",
    "### **Examples of Volunteer and Distributed Computing**\n",
    "- **SETI@Home:** Volunteers' computers analyze radio signals in the search for extraterrestrial life.  \n",
    "- **Folding@Home:** Participants donate their computer power to simulate protein folding for disease research.  \n",
    "- **BOINC (Berkeley Open Infrastructure for Network Computing):** A platform for distributed computing projects across various fields.  \n",
    "\n",
    "![Crowdsourcing](https://github.com/vibha1019/team_teach_tri3/blob/main/images/teamteach-pictures/crowdsourcing.png?raw=true)"
   ]
  },
  {
   "cell_type": "markdown",
   "metadata": {},
   "source": [
    "### **Benefits and Risks**\n",
    "\n",
    "| **Topic**               | **Benefits**                                      | **Risks**                                          |\n",
    "|--------------------------|--------------------------------------------------|---------------------------------------------------|\n",
    "| **Crowdsourcing**        | - Aggregates collective knowledge, leading to innovative solutions. <br> - Enhances efficiency by distributing tasks to many people. <br> - Cost-effective for organizations. <br> - Faster problem-solving with large-scale participation.         | - Vulnerable to misinformation and vandalism. <br> - Lack of diversity despite open access. <br> - Prone to scams and fraud in crowdfunding platforms.    |\n",
    "| **Human Computation**     |  - Solves problems that are difficult for machines but easy for humans (e.g., image recognition). <br> - Efficient for processing large datasets through microtasks. <br> - Improves machine learning algorithms by validating data. <br> - Can utilize unpaid volunteers or paid microworkers.   | - Potential for human error or bias in results. <br> - Limited scalability for complex or large-scale problems. |\n",
    "| **Citizen Science**       | - Broadens participation in scientific research, increasing data collection capacity. <br> - Allows non-experts to contribute to real scientific projects. <br> - Encourages public engagement with science. <br> - Promotes scientific literacy and community involvement. |  - Data quality may vary due to inconsistent or inaccurate contributions. <br> - Requires proper verification to prevent false or misleading data. <br> - Privacy concerns when participants share personal data. |\n",
    "| **Volunteer Computing**   | - Harnesses idle computing power to solve complex problems. <br> - Cost-effective access to large-scale processing power. <br> - Accelerates scientific simulations and data analysis. | - Security risks, as distributed networks are vulnerable to hacking. <br> - Reliability issues due to inconsistent user participation. |\n"
   ]
  },
  {
   "cell_type": "markdown",
   "metadata": {},
   "source": [
    "## **Hacks**\n",
    "\n",
    "### Question 1\n",
    "Explain the concept of crowdsourcing. Provide 2 examples (that have not been mentioned in this lesson) of how it is commonly used in different fields.\n",
    "\n",
    "### Question 2 \n",
    "Identify a real-world example of a successful crowdsourcing project. Explain the project, its goals, and the positive outcomes achieved through the collaboration of a large group of people.\n",
    "\n",
    "### Question 3\n",
    "What are some drawbacks of crowdsourcing and why would certain groups denounce crowdsourcing? Provide specific example(s).\n",
    "\n",
    "### Question 4\n",
    "Find a public data set that would work with your Pilot City project."
   ]
  },
  {
   "cell_type": "markdown",
   "metadata": {},
   "source": []
  }
 ],
 "metadata": {
  "language_info": {
   "name": "python"
  }
 },
 "nbformat": 4,
 "nbformat_minor": 2
}
