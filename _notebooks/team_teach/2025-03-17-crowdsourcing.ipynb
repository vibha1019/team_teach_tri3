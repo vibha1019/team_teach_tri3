{
 "cells": [
  {
   "cell_type": "raw",
   "metadata": {
    "vscode": {
     "languageId": "raw"
    }
   },
   "source": [
    "---\n",
    "layout: post\n",
    "title: Crowdsourcing\n",
    "description: Obtain informations and idea from large group of people\n",
    "permalink: /crowdsourcing-lesson\n",
    "toc: false\n",
    "comments: true\n",
    "author: Collin G, Maryam A, Aditi B\n",
    "---"
   ]
  },
  {
   "cell_type": "markdown",
   "metadata": {},
   "source": [
    "# Introduction to crowdsourcing and related concepts:\n",
    "\n",
    "## **1. Crowdsourcing**\n",
    "Crowdsourcing is the practice of **gathering information, ideas, services, or content from a large group of people**, typically via the internet.\n",
    "### **Examples of Crowdsourcing**\n",
    "- **Wikipedia:** Volunteers collaboratively create and edit content.  \n",
    "- **Waze:** Drivers share real-time traffic data to improve navigation.  \n",
    "- **GoFundMe:** People contribute small amounts of money to collectively fund larger projects.  \n",
    "\n",
    "---\n",
    "\n",
    "## **2. Human Computation**\n",
    "Human computation refers to systems that **combine human skills with computer processing power** to solve complex problems. \n",
    "\n",
    "### **Examples of Human Computation**\n",
    "- **reCAPTCHA:** Users help digitize text by verifying distorted words.  \n",
    "- **Foldit:** Players solve puzzles to help scientists understand protein folding.  \n",
    "- **Amazon Mechanical Turk (MTurk):** A platform where workers perform small tasks that AI struggles with, such as sentiment analysis or content moderation.  \n",
    "\n",
    "---\n",
    "\n",
    "## **3. Citizen Science and Public Datasets**\n",
    "Citizen science is a form of crowdsourcing where **volunteers participate in scientific research** by collecting, categorizing, or analyzing data. \n",
    "\n",
    "### **Examples of Citizen Science**\n",
    "- **Zooniverse:** A platform where volunteers classify images for scientific projects.  \n",
    "- **eBird:** Birdwatchers contribute sightings, creating valuable migration data.  \n",
    "- **Globe at Night:** Citizens measure light pollution by observing stars.  \n",
    "\n",
    "---\n",
    "\n",
    "## **4. Volunteer Computing and Distributed Computing**\n",
    "Volunteer and distributed computing involve **using the idle processing power of thousands of personal computers** to perform large-scale computations. \n",
    "\n",
    "### **Examples of Volunteer and Distributed Computing**\n",
    "- **SETI@home:** Volunteers' computers analyze radio signals in the search for extraterrestrial life.  \n",
    "- **Folding@home:** Participants donate their computer power to simulate protein folding for disease research.  \n",
    "- **BOINC (Berkeley Open Infrastructure for Network Computing):** A platform for distributed computing projects across various fields.  \n",
    "\n",
    "---"
   ]
  },
  {
   "cell_type": "markdown",
   "metadata": {},
   "source": [
    "### **Benefits and Risks Chart**\n",
    "\n",
    "| **Topic**               | **Benefits**                                      | **Risks**                                          |\n",
    "|--------------------------|--------------------------------------------------|---------------------------------------------------|\n",
    "| **Crowdsourcing**        | - Aggregates collective knowledge, leading to innovative solutions. <br> - Enhances efficiency by distributing tasks to many people. <br> - Cost-effective for organizations. <br> - Faster problem-solving with large-scale participation.         | - Vulnerable to misinformation and vandalism. <br> - Lack of diversity despite open access. <br> - Prone to scams and fraud in crowdfunding platforms.    |\n",
    "| **Human Computation**     |  - Solves problems that are difficult for machines but easy for humans (e.g., image recognition). <br> - Efficient for processing large datasets through microtasks. <br> - Improves machine learning algorithms by validating data. <br> - Can utilize unpaid volunteers or paid microworkers.   | - Potential for human error or bias in results. <br> - Limited scalability for complex or large-scale problems. |\n",
    "| **Citizen Science**       | - Broadens participation in scientific research, increasing data collection capacity. <br> - Allows non-experts to contribute to real scientific projects. <br> - Encourages public engagement with science. <br> - Promotes scientific literacy and community involvement. |  - Data quality may vary due to inconsistent or inaccurate contributions. <br> - Requires proper verification to prevent false or misleading data. <br> - Privacy concerns when participants share personal data. |\n",
    "| **Volunteer Computing**   | - Harnesses idle computing power to solve complex problems. <br> - Cost-effective access to large-scale processing power. <br> - Accelerates scientific simulations and data analysis. | - Security risks, as distributed networks are vulnerable to hacking. <br> - Reliability issues due to inconsistent user participation. |\n"
   ]
  },
  {
   "cell_type": "markdown",
   "metadata": {},
   "source": []
  }
 ],
 "metadata": {
  "language_info": {
   "name": "python"
  }
 },
 "nbformat": 4,
 "nbformat_minor": 2
}
